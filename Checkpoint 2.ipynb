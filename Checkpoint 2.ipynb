{
 "cells": [
  {
   "cell_type": "code",
   "execution_count": 3,
   "id": "728c8a3a",
   "metadata": {},
   "outputs": [
    {
     "name": "stdout",
     "output_type": "stream",
     "text": [
      "Input your First Name : Ali\n",
      "Input your Last Name : Hayani\n",
      "Hello  Hayani Ali\n"
     ]
    }
   ],
   "source": [
    "#question 1\n",
    "fullname = input(\"Input your First Name : \")\n",
    "lastname = input(\"Input your Last Name : \")\n",
    "print (\"Hello  \" + lastname + \" \" + fullname)"
   ]
  },
  {
   "cell_type": "code",
   "execution_count": 5,
   "id": "4b821e8c",
   "metadata": {},
   "outputs": [
    {
     "name": "stdout",
     "output_type": "stream",
     "text": [
      "Input an integer : 5\n",
      "615\n"
     ]
    }
   ],
   "source": [
    "#question 2\n",
    "a = int(input(\"Input an integer : \"))\n",
    "num1 = int( \"%s\" % a )\n",
    "num2 = int( \"%s%s\" % (a,a) )\n",
    "num3 = int( \"%s%s%s\" % (a,a,a) )\n",
    "print (num1+num2+num3)"
   ]
  },
  {
   "cell_type": "code",
   "execution_count": 7,
   "id": "333913b6",
   "metadata": {},
   "outputs": [
    {
     "name": "stdout",
     "output_type": "stream",
     "text": [
      "Enter a number: 4794456419\n",
      "4794456419 is odd\n"
     ]
    }
   ],
   "source": [
    "#question 3\n",
    "num = int(input(\"Enter a number: \"))\n",
    "if (num % 2) == 0:\n",
    "   print(\"{0} is even\".format(num))\n",
    "else:\n",
    "   print(\"{0} is odd\".format(num))"
   ]
  },
  {
   "cell_type": "code",
   "execution_count": 10,
   "id": "1b84c005",
   "metadata": {},
   "outputs": [
    {
     "name": "stdout",
     "output_type": "stream",
     "text": [
      "2002,2009,2016,2023,2037,2044,2051,2058,2072,2079,2086,2093,2107,2114,2121,2128,2142,2149,2156,2163,2177,2184,2191,2198,2212,2219,2226,2233,2247,2254,2261,2268,2282,2289,2296,2303,2317,2324,2331,2338,2352,2359,2366,2373,2387,2394,2401,2408,2422,2429,2436,2443,2457,2464,2471,2478,2492,2499,2506,2513,2527,2534,2541,2548,2562,2569,2576,2583,2597,2604,2611,2618,2632,2639,2646,2653,2667,2674,2681,2688,2702,2709,2716,2723,2737,2744,2751,2758,2772,2779,2786,2793,2807,2814,2821,2828,2842,2849,2856,2863,2877,2884,2891,2898,2912,2919,2926,2933,2947,2954,2961,2968,2982,2989,2996,3003,3017,3024,3031,3038,3052,3059,3066,3073,3087,3094,3101,3108,3122,3129,3136,3143,3157,3164,3171,3178,3192,3199\n"
     ]
    }
   ],
   "source": [
    "#question 4\n",
    "l=[]\n",
    "for i in range(2000, 3201):\n",
    "    if (i%7==0) and (i%5!=0):\n",
    "        l.append(str(i))\n",
    "\n",
    "print(','.join(l))\n"
   ]
  },
  {
   "cell_type": "code",
   "execution_count": 16,
   "id": "320abfae",
   "metadata": {},
   "outputs": [
    {
     "ename": "SyntaxError",
     "evalue": "invalid syntax (2583916422.py, line 8)",
     "output_type": "error",
     "traceback": [
      "\u001b[1;36m  Input \u001b[1;32mIn [16]\u001b[1;36m\u001b[0m\n\u001b[1;33m    print fact(x)\u001b[0m\n\u001b[1;37m          ^\u001b[0m\n\u001b[1;31mSyntaxError\u001b[0m\u001b[1;31m:\u001b[0m invalid syntax\n"
     ]
    }
   ],
   "source": [
    "#question 5\n",
    "def fact(x):\n",
    "    if x == 0:\n",
    "        return 1\n",
    "    return x * fact(x - 1)\n",
    "\n",
    "x=int(raw_input())\n",
    "print fact(x)"
   ]
  },
  {
   "cell_type": "code",
   "execution_count": 17,
   "id": "06361bd2",
   "metadata": {},
   "outputs": [
    {
     "name": "stdout",
     "output_type": "stream",
     "text": [
      "hlo\n",
      "ta\n"
     ]
    }
   ],
   "source": [
    "def odd_values_string(str):\n",
    "  result = \"\" \n",
    "  for i in range(len(str)):\n",
    "    if i % 2 == 0:\n",
    "      result = result + str[i]\n",
    "  return result\n",
    "\n",
    "print(odd_values_string('hello'))\n",
    "print(odd_values_string('team'))\n",
    "#question6"
   ]
  },
  {
   "cell_type": "code",
   "execution_count": 18,
   "id": "e1ec6ba0",
   "metadata": {},
   "outputs": [
    {
     "ename": "SyntaxError",
     "evalue": "invalid syntax (1062925210.py, line 3)",
     "output_type": "error",
     "traceback": [
      "\u001b[1;36m  Input \u001b[1;32mIn [18]\u001b[1;36m\u001b[0m\n\u001b[1;33m    print\"You have won a discount\"\u001b[0m\n\u001b[1;37m         ^\u001b[0m\n\u001b[1;31mSyntaxError\u001b[0m\u001b[1;31m:\u001b[0m invalid syntax\n"
     ]
    }
   ],
   "source": []
  },
  {
   "cell_type": "code",
   "execution_count": 19,
   "id": "5edaf74c",
   "metadata": {},
   "outputs": [
    {
     "name": "stdout",
     "output_type": "stream",
     "text": [
      "Enter selling price : 150\n",
      "Discount : 7.5\n"
     ]
    }
   ],
   "source": [
    "def getDiscount(amount):\n",
    "    if amount <= 0:\n",
    "        return 0;\n",
    "    elif amount <= 100:\n",
    "        return amount*.02;\n",
    "    elif amount <= 500:\n",
    "        return amount*.05;\n",
    "    elif amount <= 1000:\n",
    "        return amount*.07;\n",
    "    else:\n",
    "        return amount*.1;\n",
    "\n",
    "if __name__=='__main__':\n",
    "    selling_price = int(input(\"Enter selling price : \"))\n",
    "    discount = getDiscount(selling_price)\n",
    "\n",
    "    print(\"Discount : {}\".format(discount))"
   ]
  },
  {
   "cell_type": "code",
   "execution_count": null,
   "id": "281e249f",
   "metadata": {},
   "outputs": [],
   "source": []
  }
 ],
 "metadata": {
  "kernelspec": {
   "display_name": "Python 3 (ipykernel)",
   "language": "python",
   "name": "python3"
  },
  "language_info": {
   "codemirror_mode": {
    "name": "ipython",
    "version": 3
   },
   "file_extension": ".py",
   "mimetype": "text/x-python",
   "name": "python",
   "nbconvert_exporter": "python",
   "pygments_lexer": "ipython3",
   "version": "3.9.12"
  }
 },
 "nbformat": 4,
 "nbformat_minor": 5
}
