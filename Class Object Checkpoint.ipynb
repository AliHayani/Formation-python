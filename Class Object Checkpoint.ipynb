{
 "cells": [
  {
   "cell_type": "code",
   "execution_count": 12,
   "id": "8d1c80a1",
   "metadata": {},
   "outputs": [
    {
     "name": "stdout",
     "output_type": "stream",
     "text": [
      "x = 1\n",
      "y = 2\n",
      "z = 3\n"
     ]
    }
   ],
   "source": [
    "#Question 3\n",
    "class Point3d:\n",
    "    number = \"Number\"\n",
    "    def __init__(self, x, y, z):\n",
    "        self.x = x\n",
    "        self.y = y \n",
    "        self.z = z \n",
    "mypoint = Point3d(1,2,3)\n",
    "print(\"x = {}\".format(mypoint.x))\n",
    "print(\"y = {}\".format(mypoint.y))\n",
    "print(\"z = {}\".format(mypoint.z))\n"
   ]
  },
  {
   "cell_type": "code",
   "execution_count": 9,
   "id": "1bbb41ac",
   "metadata": {},
   "outputs": [
    {
     "name": "stdout",
     "output_type": "stream",
     "text": [
      "Area = 12\n",
      "Perimeter = 14\n"
     ]
    }
   ],
   "source": [
    "#Question 2\n",
    "class Rectangle:\n",
    "    def __init__(self, width, length):\n",
    "        self.width = width\n",
    "        self.length = length\n",
    "    def area(self):\n",
    "        return self.width * self.length\n",
    "    def peri(self):\n",
    "        return 2*(self.width + self.length )\n",
    "        \n",
    "        \n",
    "mypointt = Rectangle(3,4)\n",
    "print(\"Area = {}\".format(mypointt.area()))\n",
    "print(\"Perimeter = {}\".format(mypointt.peri()))\n",
    "\n",
    "    "
   ]
  },
  {
   "cell_type": "code",
   "execution_count": 12,
   "id": "9a27877c",
   "metadata": {},
   "outputs": [
    {
     "name": "stdout",
     "output_type": "stream",
     "text": [
      "50.24\n",
      "25.12\n"
     ]
    }
   ],
   "source": [
    "#question 3\n",
    "class Circle():\n",
    "    def __init__(self, r):\n",
    "        self.radius = r\n",
    "\n",
    "    def area(self):\n",
    "        return self.radius**2*3.14\n",
    "    \n",
    "    def perimeter(self):\n",
    "        return 2*(self.radius)*3.14\n",
    "\n",
    "NewCircle = Circle(4)\n",
    "print(NewCircle.area())\n",
    "print(NewCircle.perimeter())"
   ]
  },
  {
   "cell_type": "code",
   "execution_count": 20,
   "id": "71f6e97c",
   "metadata": {},
   "outputs": [
    {
     "name": "stdout",
     "output_type": "stream",
     "text": [
      "Welcome to Deposit & Withdrawal Machine!\n",
      "Enter amount to be deposited: 50\n",
      "Amount Deposited:  50.0\n",
      "Enter amount to withdraw: 80\n",
      "Insufficient balance \n",
      "Net Available Balance= 50.0\n"
     ]
    }
   ],
   "source": [
    "#question 4\n",
    "class Bank_Account:\n",
    "    def __init__(self):\n",
    "        self.balance=0\n",
    "        print(\"Welcome to Deposit & Withdrawal Machine!\")\n",
    "        \n",
    "    def deposit(self):\n",
    "        amount=float(input(\"Enter amount to be deposited: \"))\n",
    "        self.balance += amount\n",
    "        print(\"Amount Deposited: \",amount)\n",
    "    def withdraw(self):\n",
    "        amount = float(input(\"Enter amount to withdraw: \"))\n",
    "        if self.balance>=amount:\n",
    "            self.balance-=amount\n",
    "            print(\"You withdraw: \",amount)\n",
    "        else:\n",
    "            print(\"Insufficient balance \")\n",
    "    def display(self):\n",
    "        print(\"Net Available Balance=\",self.balance)\n",
    "#creating an object of class\n",
    "s = Bank_Account()\n",
    "\n",
    "#calling functions with that class\n",
    "s.deposit()\n",
    "s.withdraw()\n",
    "s.display()"
   ]
  },
  {
   "cell_type": "code",
   "execution_count": null,
   "id": "7ac59f5e",
   "metadata": {},
   "outputs": [],
   "source": []
  }
 ],
 "metadata": {
  "kernelspec": {
   "display_name": "Python 3 (ipykernel)",
   "language": "python",
   "name": "python3"
  },
  "language_info": {
   "codemirror_mode": {
    "name": "ipython",
    "version": 3
   },
   "file_extension": ".py",
   "mimetype": "text/x-python",
   "name": "python",
   "nbconvert_exporter": "python",
   "pygments_lexer": "ipython3",
   "version": "3.9.12"
  }
 },
 "nbformat": 4,
 "nbformat_minor": 5
}
