{
 "cells": [
  {
   "cell_type": "code",
   "execution_count": 4,
   "id": "a7f19332",
   "metadata": {},
   "outputs": [
    {
     "name": "stdout",
     "output_type": "stream",
     "text": [
      "19\n"
     ]
    }
   ],
   "source": [
    "def maxx(a, b, c):\n",
    "    list = [a, b, c]\n",
    "    return max(list)\n",
    "#Question 1\n",
    "\n",
    "a = 17\n",
    "b = 12\n",
    "c = 19\n",
    "print(maxd(a, b, c))"
   ]
  },
  {
   "cell_type": "code",
   "execution_count": 6,
   "id": "596fd5aa",
   "metadata": {},
   "outputs": [
    {
     "name": "stdout",
     "output_type": "stream",
     "text": [
      "(50, 30)\n"
     ]
    }
   ],
   "source": [
    "def calcul(a, b):\n",
    "    return a+b, a-b\n",
    "#Question 2\n",
    "\n",
    "result = calcul(40, 10)\n",
    "print(result)"
   ]
  },
  {
   "cell_type": "code",
   "execution_count": 1,
   "id": "ff793625",
   "metadata": {},
   "outputs": [
    {
     "name": "stdout",
     "output_type": "stream",
     "text": [
      "How many numbers: 5\n",
      "Enter number 14\n",
      "Enter number 22\n",
      "Enter number 3\n",
      "Enter number 66\n",
      "Enter number 44\n",
      "Sum of elements in given list is : 149\n"
     ]
    }
   ],
   "source": [
    "lst = []\n",
    "num = int(input('How many numbers: '))\n",
    "for n in range(num):\n",
    "    numbers = int(input('Enter number '))\n",
    "    lst.append(numbers)\n",
    "print(\"Sum of elements in given list is :\", sum(lst))\n",
    "#Question 4"
   ]
  },
  {
   "cell_type": "code",
   "execution_count": null,
   "id": "57828457",
   "metadata": {},
   "outputs": [],
   "source": [
    "#j'ai pas bien compris la question 3 et 5 et merci."
   ]
  }
 ],
 "metadata": {
  "kernelspec": {
   "display_name": "Python 3 (ipykernel)",
   "language": "python",
   "name": "python3"
  },
  "language_info": {
   "codemirror_mode": {
    "name": "ipython",
    "version": 3
   },
   "file_extension": ".py",
   "mimetype": "text/x-python",
   "name": "python",
   "nbconvert_exporter": "python",
   "pygments_lexer": "ipython3",
   "version": "3.9.12"
  }
 },
 "nbformat": 4,
 "nbformat_minor": 5
}
