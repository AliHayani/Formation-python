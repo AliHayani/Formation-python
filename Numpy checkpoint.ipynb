{
 "cells": [
  {
   "cell_type": "code",
   "execution_count": 3,
   "id": "d98e4d26",
   "metadata": {},
   "outputs": [
    {
     "name": "stdout",
     "output_type": "stream",
     "text": [
      "[45, 34, 67]\n"
     ]
    }
   ],
   "source": [
    "#QUESTION 1\n",
    "from array import *\n",
    "def list_array(array_numb):\n",
    "    numb_list = array_numb.tolist()\n",
    "    print(numb_list)\n",
    "  \n",
    "array_numb = array('i', [45,34,67])\n",
    "list_array(array_numb)"
   ]
  },
  {
   "cell_type": "code",
   "execution_count": 19,
   "id": "c629f9fa",
   "metadata": {},
   "outputs": [
    {
     "name": "stdout",
     "output_type": "stream",
     "text": [
      "la matrice est:\n",
      "[[25 17 17 86]\n",
      " [28 55 66 77]\n",
      " [47 52 89 45]\n",
      " [78 58 92 41]]\n",
      "la somme est:\n",
      "210\n"
     ]
    }
   ],
   "source": [
    "#question 2\n",
    "import numpy as np\n",
    "l_array = np.array([[25, 17, 17, 86],\n",
    "                 [28, 55, 66, 77],\n",
    "                 [47, 52, 89, 45],\n",
    "                 [78, 58, 92, 41]])\n",
    "print(\"la matrice est:\")\n",
    "print(l_array)\n",
    "\n",
    "trace = np.trace(l_array)\n",
    "            \n",
    "print(\"la somme est:\")\n",
    "print(trace)"
   ]
  },
  {
   "cell_type": "code",
   "execution_count": 18,
   "id": "a9ca25d6",
   "metadata": {},
   "outputs": [
    {
     "name": "stdout",
     "output_type": "stream",
     "text": [
      "[1 2 3 4 5 6 7]\n",
      "[5 6 7]\n"
     ]
    }
   ],
   "source": [
    "#question 3\n",
    "import numpy as np\n",
    "ar = np.array([1, 2, 3, 4, 5, 6, 7])\n",
    "print(ar[ar > 4])"
   ]
  },
  {
   "cell_type": "code",
   "execution_count": 21,
   "id": "f03f6f57",
   "metadata": {},
   "outputs": [
    {
     "data": {
      "text/plain": [
       "array([11,  7, 14, 15])"
      ]
     },
     "execution_count": 21,
     "metadata": {},
     "output_type": "execute_result"
    }
   ],
   "source": [
    "#question 4\n",
    "import numpy as np\n",
    "arr1 = np.array([2,4,9,8])\n",
    "arr2 = np.array([9,3,5,7])\n",
    "np.add(arr1,arr2)"
   ]
  },
  {
   "cell_type": "code",
   "execution_count": 23,
   "id": "9c5b9878",
   "metadata": {},
   "outputs": [
    {
     "name": "stdout",
     "output_type": "stream",
     "text": [
      "3.5\n"
     ]
    }
   ],
   "source": [
    "#question 5\n",
    "import numpy as np\n",
    "array = np.array([[1,2],[3,4],[5,6]])\n",
    "mean = array.mean()\n",
    "print(mean)"
   ]
  },
  {
   "cell_type": "code",
   "execution_count": null,
   "id": "7529eda3",
   "metadata": {},
   "outputs": [],
   "source": []
  }
 ],
 "metadata": {
  "kernelspec": {
   "display_name": "Python 3 (ipykernel)",
   "language": "python",
   "name": "python3"
  },
  "language_info": {
   "codemirror_mode": {
    "name": "ipython",
    "version": 3
   },
   "file_extension": ".py",
   "mimetype": "text/x-python",
   "name": "python",
   "nbconvert_exporter": "python",
   "pygments_lexer": "ipython3",
   "version": "3.9.12"
  }
 },
 "nbformat": 4,
 "nbformat_minor": 5
}
